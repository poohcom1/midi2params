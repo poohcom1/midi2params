{
 "cells": [
  {
   "cell_type": "code",
   "execution_count": 79,
   "metadata": {},
   "outputs": [],
   "source": [
    "import os\n",
    "from random import shuffle\n",
    "import mido\n",
    "from shutil import copy"
   ]
  },
  {
   "cell_type": "code",
   "execution_count": 77,
   "metadata": {},
   "outputs": [],
   "source": [
    "data_dir = '../data_raw/8dio_samples'\n",
    "data_name = '8dio_samples'\n",
    "\n",
    "train_split = 0.8\n",
    "val_split = 0.1\n",
    "test_split = 0.1"
   ]
  },
  {
   "cell_type": "code",
   "execution_count": 50,
   "metadata": {},
   "outputs": [],
   "source": [
    "def convert_file(file):\n",
    "    name = file.split('.')[0]\n",
    "    ext = file.split('.')[1]\n",
    "\n",
    "    if ext == 'wav':\n",
    "        return name + '.mid'\n",
    "    else:\n",
    "        return name + '.wav'\n",
    "\n",
    "def match_files(filter_list):\n",
    "    new_list = []\n",
    "\n",
    "    for file in filter_list:\n",
    "        new_list.append(convert_file(file))\n",
    "\n",
    "    return new_list\n"
   ]
  },
  {
   "cell_type": "code",
   "execution_count": 38,
   "metadata": {},
   "outputs": [
    {
     "data": {
      "text/plain": [
       "MidiTrack([\n",
       "  MetaMessage('track_name', name='yee_FX#11', time=0),\n",
       "  Message('note_on', channel=0, note=66, velocity=122, time=411),\n",
       "  Message('note_on', channel=0, note=54, velocity=125, time=0),\n",
       "  Message('note_off', channel=0, note=66, velocity=0, time=1283),\n",
       "  Message('note_off', channel=0, note=54, velocity=0, time=89),\n",
       "  MetaMessage('end_of_track', time=0)])"
      ]
     },
     "execution_count": 38,
     "metadata": {},
     "output_type": "execute_result"
    }
   ],
   "source": [
    "wav_files = []\n",
    "mid_files = []\n",
    "\n",
    "for file in os.listdir(data_dir):\n",
    "    file_path = os.path.join(data_dir, file)\n",
    "    if file.endswith(\"wav\"):\n",
    "        wav_files.append(file)\n",
    "    elif file.endswith(\"mid\"):\n",
    "        mid_files.append(file)\n",
    "\n",
    "wav_files.sort()\n",
    "mid_files.sort()\n",
    "\n",
    "\n",
    "mid = mido.MidiFile(os.path.join(data_dir, mid_files[3]), clip=True)\n",
    "mid.tracks[1]\n"
   ]
  },
  {
   "cell_type": "code",
   "execution_count": 41,
   "metadata": {},
   "outputs": [
    {
     "data": {
      "text/plain": [
       "1416"
      ]
     },
     "execution_count": 41,
     "metadata": {},
     "output_type": "execute_result"
    }
   ],
   "source": [
    "def midi_filter_length(files, min_length=10):\n",
    "    filtered = []\n",
    "    for file in files:\n",
    "        mid = mido.MidiFile(os.path.join(data_dir, file), clip=True)\n",
    "        if len(mid.tracks[1]) > min_length:\n",
    "            filtered.append(file)\n",
    "\n",
    "    return filtered"
   ]
  },
  {
   "cell_type": "code",
   "execution_count": 42,
   "metadata": {},
   "outputs": [],
   "source": [
    "long_midi = midi_filter_length(mid_files, 10)"
   ]
  },
  {
   "cell_type": "code",
   "execution_count": 73,
   "metadata": {},
   "outputs": [],
   "source": [
    "shuffle(long_midi)\n",
    "\n",
    "train_split_index = int(len(long_midi) * train_split)\n",
    "val_split_index = int(len(long_midi) * (train_split + val_split))\n",
    "\n",
    "train_data = long_midi[0:train_split_index]\n",
    "val_data = long_midi[train_split_index:val_split_index]\n",
    "test_data = long_midi[val_split_index:]\n"
   ]
  },
  {
   "cell_type": "code",
   "execution_count": 87,
   "metadata": {},
   "outputs": [],
   "source": [
    "save_dir = os.path.join('../data', data_name)\n",
    "\n",
    "try:\n",
    "    os.mkdir(save_dir)\n",
    "except:\n",
    "    pass\n",
    "\n",
    "data_dict = {'train': train_data, 'val': val_data, 'test': test_data}\n",
    "\n",
    "for data_type in data_dict:\n",
    "    data_list = data_dict[data_type]\n",
    "\n",
    "    for file_type in ['midi', 'wav']:\n",
    "        folder = os.path.join(save_dir, file_type, data_type)\n",
    "\n",
    "        try:\n",
    "            os.mkdir(os.path.join(save_dir, file_type))\n",
    "        except:\n",
    "            pass\n",
    "\n",
    "        try:\n",
    "            os.mkdir(folder)\n",
    "        except:\n",
    "            pass\n",
    "\n",
    "        for file in data_dict[data_type]:\n",
    "            if file_type == 'wav':\n",
    "                file = convert_file(file)\n",
    "            copy(os.path.join(data_dir, file), os.path.join(folder, file))\n"
   ]
  },
  {
   "cell_type": "code",
   "execution_count": null,
   "metadata": {},
   "outputs": [],
   "source": []
  }
 ],
 "metadata": {
  "interpreter": {
   "hash": "938cf58078341ce1283ea571142f7448d53c5bb3aa845f202648f9bd1dc1a5ba"
  },
  "kernelspec": {
   "display_name": "Python 3.7.12 64-bit ('midi2params_env': venv)",
   "name": "python3"
  },
  "language_info": {
   "codemirror_mode": {
    "name": "ipython",
    "version": 3
   },
   "file_extension": ".py",
   "mimetype": "text/x-python",
   "name": "python",
   "nbconvert_exporter": "python",
   "pygments_lexer": "ipython3",
   "version": "3.7.12"
  },
  "orig_nbformat": 4
 },
 "nbformat": 4,
 "nbformat_minor": 2
}
